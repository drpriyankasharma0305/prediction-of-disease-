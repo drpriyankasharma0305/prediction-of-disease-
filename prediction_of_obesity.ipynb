{
  "cells": [
    {
      "cell_type": "markdown",
      "metadata": {
        "id": "view-in-github",
        "colab_type": "text"
      },
      "source": [
        "<a href=\"https://colab.research.google.com/github/drpriyankasharma0305/prediction-of-disease-/blob/main/prediction_of_obesity.ipynb\" target=\"_parent\"><img src=\"https://colab.research.google.com/assets/colab-badge.svg\" alt=\"Open In Colab\"/></a>"
      ]
    },
    {
      "cell_type": "code",
      "execution_count": null,
      "id": "a31dc6a4",
      "metadata": {
        "id": "a31dc6a4"
      },
      "outputs": [],
      "source": [
        "import pandas as pd"
      ]
    },
    {
      "cell_type": "code",
      "execution_count": null,
      "id": "31c059a5",
      "metadata": {
        "id": "31c059a5",
        "outputId": "c162a82d-7679-4b71-e2c0-c5f0e5483ae4"
      },
      "outputs": [
        {
          "data": {
            "text/html": [
              "<div>\n",
              "<style scoped>\n",
              "    .dataframe tbody tr th:only-of-type {\n",
              "        vertical-align: middle;\n",
              "    }\n",
              "\n",
              "    .dataframe tbody tr th {\n",
              "        vertical-align: top;\n",
              "    }\n",
              "\n",
              "    .dataframe thead th {\n",
              "        text-align: right;\n",
              "    }\n",
              "</style>\n",
              "<table border=\"1\" class=\"dataframe\">\n",
              "  <thead>\n",
              "    <tr style=\"text-align: right;\">\n",
              "      <th></th>\n",
              "      <th>Country</th>\n",
              "      <th>Year</th>\n",
              "      <th>Obesity (%)</th>\n",
              "      <th>Sex</th>\n",
              "    </tr>\n",
              "  </thead>\n",
              "  <tbody>\n",
              "    <tr>\n",
              "      <th>0</th>\n",
              "      <td>Afghanistan</td>\n",
              "      <td>1975</td>\n",
              "      <td>0.5 [0.2-1.1]</td>\n",
              "      <td>Both sexes</td>\n",
              "    </tr>\n",
              "    <tr>\n",
              "      <th>1</th>\n",
              "      <td>Afghanistan</td>\n",
              "      <td>1975</td>\n",
              "      <td>0.2 [0.0-0.6]</td>\n",
              "      <td>Male</td>\n",
              "    </tr>\n",
              "    <tr>\n",
              "      <th>2</th>\n",
              "      <td>Afghanistan</td>\n",
              "      <td>1975</td>\n",
              "      <td>0.8 [0.2-2.0]</td>\n",
              "      <td>Female</td>\n",
              "    </tr>\n",
              "    <tr>\n",
              "      <th>3</th>\n",
              "      <td>Afghanistan</td>\n",
              "      <td>1976</td>\n",
              "      <td>0.5 [0.2-1.1]</td>\n",
              "      <td>Both sexes</td>\n",
              "    </tr>\n",
              "    <tr>\n",
              "      <th>4</th>\n",
              "      <td>Afghanistan</td>\n",
              "      <td>1976</td>\n",
              "      <td>0.2 [0.0-0.7]</td>\n",
              "      <td>Male</td>\n",
              "    </tr>\n",
              "    <tr>\n",
              "      <th>...</th>\n",
              "      <td>...</td>\n",
              "      <td>...</td>\n",
              "      <td>...</td>\n",
              "      <td>...</td>\n",
              "    </tr>\n",
              "    <tr>\n",
              "      <th>24565</th>\n",
              "      <td>Zimbabwe</td>\n",
              "      <td>2015</td>\n",
              "      <td>4.5 [2.4-7.6]</td>\n",
              "      <td>Male</td>\n",
              "    </tr>\n",
              "    <tr>\n",
              "      <th>24566</th>\n",
              "      <td>Zimbabwe</td>\n",
              "      <td>2015</td>\n",
              "      <td>24.8 [18.9-31.3]</td>\n",
              "      <td>Female</td>\n",
              "    </tr>\n",
              "    <tr>\n",
              "      <th>24567</th>\n",
              "      <td>Zimbabwe</td>\n",
              "      <td>2016</td>\n",
              "      <td>15.5 [12.0-19.2]</td>\n",
              "      <td>Both sexes</td>\n",
              "    </tr>\n",
              "    <tr>\n",
              "      <th>24568</th>\n",
              "      <td>Zimbabwe</td>\n",
              "      <td>2016</td>\n",
              "      <td>4.7 [2.5-8.0]</td>\n",
              "      <td>Male</td>\n",
              "    </tr>\n",
              "    <tr>\n",
              "      <th>24569</th>\n",
              "      <td>Zimbabwe</td>\n",
              "      <td>2016</td>\n",
              "      <td>25.3 [19.1-32.0]</td>\n",
              "      <td>Female</td>\n",
              "    </tr>\n",
              "  </tbody>\n",
              "</table>\n",
              "<p>24570 rows × 4 columns</p>\n",
              "</div>"
            ],
            "text/plain": [
              "           Country  Year       Obesity (%)         Sex\n",
              "0      Afghanistan  1975     0.5 [0.2-1.1]  Both sexes\n",
              "1      Afghanistan  1975     0.2 [0.0-0.6]        Male\n",
              "2      Afghanistan  1975     0.8 [0.2-2.0]      Female\n",
              "3      Afghanistan  1976     0.5 [0.2-1.1]  Both sexes\n",
              "4      Afghanistan  1976     0.2 [0.0-0.7]        Male\n",
              "...            ...   ...               ...         ...\n",
              "24565     Zimbabwe  2015     4.5 [2.4-7.6]        Male\n",
              "24566     Zimbabwe  2015  24.8 [18.9-31.3]      Female\n",
              "24567     Zimbabwe  2016  15.5 [12.0-19.2]  Both sexes\n",
              "24568     Zimbabwe  2016     4.7 [2.5-8.0]        Male\n",
              "24569     Zimbabwe  2016  25.3 [19.1-32.0]      Female\n",
              "\n",
              "[24570 rows x 4 columns]"
            ]
          },
          "execution_count": 10,
          "metadata": {},
          "output_type": "execute_result"
        }
      ],
      "source": [
        "df=pd.read_csv('obesity-cleaned.csv',index_col=[0])\n",
        "df"
      ]
    },
    {
      "cell_type": "code",
      "execution_count": null,
      "id": "b482b4dc",
      "metadata": {
        "id": "b482b4dc",
        "outputId": "2121791f-bb69-4931-a69d-276b4620a2be"
      },
      "outputs": [
        {
          "data": {
            "text/plain": [
              "195"
            ]
          },
          "execution_count": 11,
          "metadata": {},
          "output_type": "execute_result"
        }
      ],
      "source": [
        "df['Country'].nunique()"
      ]
    },
    {
      "cell_type": "code",
      "execution_count": null,
      "id": "f8b2ca25",
      "metadata": {
        "colab": {
          "base_uri": "https://localhost:8080/",
          "height": 193
        },
        "id": "f8b2ca25",
        "outputId": "38ca8d44-8433-4a55-e99b-d63a8249d68e"
      },
      "outputs": [
        {
          "output_type": "error",
          "ename": "NameError",
          "evalue": "ignored",
          "traceback": [
            "\u001b[0;31m---------------------------------------------------------------------------\u001b[0m",
            "\u001b[0;31mNameError\u001b[0m                                 Traceback (most recent call last)",
            "\u001b[0;32m<ipython-input-2-801329e96984>\u001b[0m in \u001b[0;36m<cell line: 1>\u001b[0;34m()\u001b[0m\n\u001b[0;32m----> 1\u001b[0;31m \u001b[0mdf2\u001b[0m\u001b[0;34m=\u001b[0m\u001b[0mdf\u001b[0m\u001b[0;34m[\u001b[0m\u001b[0mdf\u001b[0m\u001b[0;34m[\u001b[0m\u001b[0;34m\"Country\"\u001b[0m\u001b[0;34m]\u001b[0m\u001b[0;34m==\u001b[0m\u001b[0;34m\"Afghanistan\"\u001b[0m\u001b[0;34m]\u001b[0m\u001b[0;34m\u001b[0m\u001b[0;34m\u001b[0m\u001b[0m\n\u001b[0m\u001b[1;32m      2\u001b[0m \u001b[0mdf2\u001b[0m\u001b[0;34m\u001b[0m\u001b[0;34m\u001b[0m\u001b[0m\n",
            "\u001b[0;31mNameError\u001b[0m: name 'df' is not defined"
          ]
        }
      ],
      "source": [
        "df2=df[df[\"Country\"]==\"Afghanistan\"]\n",
        "df2"
      ]
    },
    {
      "cell_type": "code",
      "source": [],
      "metadata": {
        "id": "fZEXxmiKqbTw"
      },
      "id": "fZEXxmiKqbTw",
      "execution_count": null,
      "outputs": []
    },
    {
      "cell_type": "code",
      "source": [],
      "metadata": {
        "id": "vPq4rTD6qbWv"
      },
      "id": "vPq4rTD6qbWv",
      "execution_count": null,
      "outputs": []
    },
    {
      "cell_type": "code",
      "execution_count": null,
      "id": "6e80ff80",
      "metadata": {
        "id": "6e80ff80",
        "outputId": "024a24d6-35b2-4c00-dbc8-7b008457d2d8"
      },
      "outputs": [
        {
          "name": "stdout",
          "output_type": "stream",
          "text": [
            "<class 'pandas.core.frame.DataFrame'>\n",
            "Index: 126 entries, 0 to 125\n",
            "Data columns (total 4 columns):\n",
            " #   Column       Non-Null Count  Dtype \n",
            "---  ------       --------------  ----- \n",
            " 0   Country      126 non-null    object\n",
            " 1   Year         126 non-null    int64 \n",
            " 2   Obesity (%)  126 non-null    object\n",
            " 3   Sex          126 non-null    object\n",
            "dtypes: int64(1), object(3)\n",
            "memory usage: 4.9+ KB\n"
          ]
        }
      ],
      "source": [
        "df2.info()"
      ]
    },
    {
      "cell_type": "code",
      "execution_count": null,
      "id": "084b58bc",
      "metadata": {
        "id": "084b58bc",
        "outputId": "7c168d02-b95e-4362-8144-42cf463646ce"
      },
      "outputs": [
        {
          "name": "stderr",
          "output_type": "stream",
          "text": [
            "<>:1: SyntaxWarning: 'float' object is not subscriptable; perhaps you missed a comma?\n",
            "<>:1: SyntaxWarning: 'float' object is not subscriptable; perhaps you missed a comma?\n",
            "C:\\Users\\brago\\AppData\\Local\\Temp\\ipykernel_7804\\2611640594.py:1: SyntaxWarning: 'float' object is not subscriptable; perhaps you missed a comma?\n",
            "  0.5 [0.2-1.1]=  0.5   [0.2-1.1]\n"
          ]
        },
        {
          "ename": "TypeError",
          "evalue": "'float' object is not subscriptable",
          "output_type": "error",
          "traceback": [
            "\u001b[1;31m---------------------------------------------------------------------------\u001b[0m",
            "\u001b[1;31mTypeError\u001b[0m                                 Traceback (most recent call last)",
            "Cell \u001b[1;32mIn[14], line 1\u001b[0m\n\u001b[1;32m----> 1\u001b[0m \u001b[38;5;241m0.5\u001b[39m [\u001b[38;5;241m0.2\u001b[39m\u001b[38;5;241m-\u001b[39m\u001b[38;5;241m1.1\u001b[39m]\u001b[38;5;241m=\u001b[39m  \u001b[38;5;241;43m0.5\u001b[39;49m\u001b[43m   \u001b[49m\u001b[43m[\u001b[49m\u001b[38;5;241;43m0.2\u001b[39;49m\u001b[38;5;241;43m-\u001b[39;49m\u001b[38;5;241;43m1.1\u001b[39;49m\u001b[43m]\u001b[49m\n",
            "\u001b[1;31mTypeError\u001b[0m: 'float' object is not subscriptable"
          ]
        }
      ],
      "source": [
        "0.5 [0.2-1.1]=  0.5   [0.2-1.1]"
      ]
    },
    {
      "cell_type": "markdown",
      "id": "b48c9304",
      "metadata": {
        "id": "b48c9304"
      },
      "source": [
        "This code splits the \"Obesity (%)\" column using \"[\" as the separator and selects the second part after the split (index 1), effectively removing the \"[\" character. The expand=True parameter ensures that the result is a DataFrame with separate columns."
      ]
    },
    {
      "cell_type": "code",
      "execution_count": null,
      "id": "c46b6b54",
      "metadata": {
        "id": "c46b6b54",
        "outputId": "051e96e5-9720-4ddc-bc67-c64f2fbae3c8"
      },
      "outputs": [
        {
          "name": "stderr",
          "output_type": "stream",
          "text": [
            "C:\\Users\\brago\\AppData\\Local\\Temp\\ipykernel_7804\\2096094302.py:1: SettingWithCopyWarning: \n",
            "A value is trying to be set on a copy of a slice from a DataFrame.\n",
            "Try using .loc[row_indexer,col_indexer] = value instead\n",
            "\n",
            "See the caveats in the documentation: https://pandas.pydata.org/pandas-docs/stable/user_guide/indexing.html#returning-a-view-versus-a-copy\n",
            "  df2['Obesity (%)'] = df2['Obesity (%)'].str.split(\"[\", expand=True)[0]\n"
          ]
        },
        {
          "data": {
            "text/html": [
              "<div>\n",
              "<style scoped>\n",
              "    .dataframe tbody tr th:only-of-type {\n",
              "        vertical-align: middle;\n",
              "    }\n",
              "\n",
              "    .dataframe tbody tr th {\n",
              "        vertical-align: top;\n",
              "    }\n",
              "\n",
              "    .dataframe thead th {\n",
              "        text-align: right;\n",
              "    }\n",
              "</style>\n",
              "<table border=\"1\" class=\"dataframe\">\n",
              "  <thead>\n",
              "    <tr style=\"text-align: right;\">\n",
              "      <th></th>\n",
              "      <th>Country</th>\n",
              "      <th>Year</th>\n",
              "      <th>Obesity (%)</th>\n",
              "      <th>Sex</th>\n",
              "    </tr>\n",
              "  </thead>\n",
              "  <tbody>\n",
              "    <tr>\n",
              "      <th>0</th>\n",
              "      <td>Afghanistan</td>\n",
              "      <td>1975</td>\n",
              "      <td>0.5</td>\n",
              "      <td>Both sexes</td>\n",
              "    </tr>\n",
              "    <tr>\n",
              "      <th>1</th>\n",
              "      <td>Afghanistan</td>\n",
              "      <td>1975</td>\n",
              "      <td>0.2</td>\n",
              "      <td>Male</td>\n",
              "    </tr>\n",
              "    <tr>\n",
              "      <th>2</th>\n",
              "      <td>Afghanistan</td>\n",
              "      <td>1975</td>\n",
              "      <td>0.8</td>\n",
              "      <td>Female</td>\n",
              "    </tr>\n",
              "    <tr>\n",
              "      <th>3</th>\n",
              "      <td>Afghanistan</td>\n",
              "      <td>1976</td>\n",
              "      <td>0.5</td>\n",
              "      <td>Both sexes</td>\n",
              "    </tr>\n",
              "    <tr>\n",
              "      <th>4</th>\n",
              "      <td>Afghanistan</td>\n",
              "      <td>1976</td>\n",
              "      <td>0.2</td>\n",
              "      <td>Male</td>\n",
              "    </tr>\n",
              "    <tr>\n",
              "      <th>...</th>\n",
              "      <td>...</td>\n",
              "      <td>...</td>\n",
              "      <td>...</td>\n",
              "      <td>...</td>\n",
              "    </tr>\n",
              "    <tr>\n",
              "      <th>121</th>\n",
              "      <td>Afghanistan</td>\n",
              "      <td>2015</td>\n",
              "      <td>3.0</td>\n",
              "      <td>Male</td>\n",
              "    </tr>\n",
              "    <tr>\n",
              "      <th>122</th>\n",
              "      <td>Afghanistan</td>\n",
              "      <td>2015</td>\n",
              "      <td>7.3</td>\n",
              "      <td>Female</td>\n",
              "    </tr>\n",
              "    <tr>\n",
              "      <th>123</th>\n",
              "      <td>Afghanistan</td>\n",
              "      <td>2016</td>\n",
              "      <td>5.5</td>\n",
              "      <td>Both sexes</td>\n",
              "    </tr>\n",
              "    <tr>\n",
              "      <th>124</th>\n",
              "      <td>Afghanistan</td>\n",
              "      <td>2016</td>\n",
              "      <td>3.2</td>\n",
              "      <td>Male</td>\n",
              "    </tr>\n",
              "    <tr>\n",
              "      <th>125</th>\n",
              "      <td>Afghanistan</td>\n",
              "      <td>2016</td>\n",
              "      <td>7.6</td>\n",
              "      <td>Female</td>\n",
              "    </tr>\n",
              "  </tbody>\n",
              "</table>\n",
              "<p>126 rows × 4 columns</p>\n",
              "</div>"
            ],
            "text/plain": [
              "         Country  Year Obesity (%)         Sex\n",
              "0    Afghanistan  1975        0.5   Both sexes\n",
              "1    Afghanistan  1975        0.2         Male\n",
              "2    Afghanistan  1975        0.8       Female\n",
              "3    Afghanistan  1976        0.5   Both sexes\n",
              "4    Afghanistan  1976        0.2         Male\n",
              "..           ...   ...         ...         ...\n",
              "121  Afghanistan  2015        3.0         Male\n",
              "122  Afghanistan  2015        7.3       Female\n",
              "123  Afghanistan  2016        5.5   Both sexes\n",
              "124  Afghanistan  2016        3.2         Male\n",
              "125  Afghanistan  2016        7.6       Female\n",
              "\n",
              "[126 rows x 4 columns]"
            ]
          },
          "execution_count": 15,
          "metadata": {},
          "output_type": "execute_result"
        }
      ],
      "source": [
        "df2['Obesity (%)'] = df2['Obesity (%)'].str.split(\"[\", expand=True)[0]\n",
        "df2"
      ]
    },
    {
      "cell_type": "code",
      "execution_count": null,
      "id": "cf51064d",
      "metadata": {
        "id": "cf51064d",
        "outputId": "20fadbfb-e45f-4ef6-a82c-6fd379ae1939"
      },
      "outputs": [
        {
          "name": "stdout",
          "output_type": "stream",
          "text": [
            "<class 'pandas.core.frame.DataFrame'>\n",
            "Index: 24570 entries, 0 to 24569\n",
            "Data columns (total 4 columns):\n",
            " #   Column       Non-Null Count  Dtype \n",
            "---  ------       --------------  ----- \n",
            " 0   Country      24570 non-null  object\n",
            " 1   Year         24570 non-null  int64 \n",
            " 2   Obesity (%)  24570 non-null  object\n",
            " 3   Sex          24570 non-null  object\n",
            "dtypes: int64(1), object(3)\n",
            "memory usage: 959.8+ KB\n"
          ]
        }
      ],
      "source": [
        "df.info()"
      ]
    },
    {
      "cell_type": "code",
      "execution_count": null,
      "id": "ff19dd2c",
      "metadata": {
        "id": "ff19dd2c",
        "outputId": "38077a53-e398-4e91-842f-bafe08a6aa79"
      },
      "outputs": [
        {
          "name": "stderr",
          "output_type": "stream",
          "text": [
            "C:\\Users\\brago\\AppData\\Local\\Temp\\ipykernel_7804\\3483557876.py:1: SettingWithCopyWarning: \n",
            "A value is trying to be set on a copy of a slice from a DataFrame.\n",
            "Try using .loc[row_indexer,col_indexer] = value instead\n",
            "\n",
            "See the caveats in the documentation: https://pandas.pydata.org/pandas-docs/stable/user_guide/indexing.html#returning-a-view-versus-a-copy\n",
            "  df2['Obesity (%)'] = pd.to_numeric(df2['Obesity (%)'], errors='coerce')\n"
          ]
        }
      ],
      "source": [
        "df2['Obesity (%)'] = pd.to_numeric(df2['Obesity (%)'], errors='coerce')"
      ]
    },
    {
      "cell_type": "code",
      "execution_count": null,
      "id": "42967f8a",
      "metadata": {
        "id": "42967f8a"
      },
      "outputs": [],
      "source": [
        "df3=df2[df2[\"Sex\"]!=\"Both sexes\"]"
      ]
    },
    {
      "cell_type": "code",
      "execution_count": null,
      "id": "45b04c9b",
      "metadata": {
        "id": "45b04c9b",
        "outputId": "f00771bd-5e65-455a-b9ce-d00956b40e6c"
      },
      "outputs": [
        {
          "data": {
            "text/html": [
              "<div>\n",
              "<style scoped>\n",
              "    .dataframe tbody tr th:only-of-type {\n",
              "        vertical-align: middle;\n",
              "    }\n",
              "\n",
              "    .dataframe tbody tr th {\n",
              "        vertical-align: top;\n",
              "    }\n",
              "\n",
              "    .dataframe thead th {\n",
              "        text-align: right;\n",
              "    }\n",
              "</style>\n",
              "<table border=\"1\" class=\"dataframe\">\n",
              "  <thead>\n",
              "    <tr style=\"text-align: right;\">\n",
              "      <th></th>\n",
              "      <th>Country</th>\n",
              "      <th>Year</th>\n",
              "      <th>Obesity (%)</th>\n",
              "      <th>Sex</th>\n",
              "    </tr>\n",
              "  </thead>\n",
              "  <tbody>\n",
              "    <tr>\n",
              "      <th>1</th>\n",
              "      <td>Afghanistan</td>\n",
              "      <td>1975</td>\n",
              "      <td>0.2</td>\n",
              "      <td>Male</td>\n",
              "    </tr>\n",
              "    <tr>\n",
              "      <th>2</th>\n",
              "      <td>Afghanistan</td>\n",
              "      <td>1975</td>\n",
              "      <td>0.8</td>\n",
              "      <td>Female</td>\n",
              "    </tr>\n",
              "    <tr>\n",
              "      <th>4</th>\n",
              "      <td>Afghanistan</td>\n",
              "      <td>1976</td>\n",
              "      <td>0.2</td>\n",
              "      <td>Male</td>\n",
              "    </tr>\n",
              "    <tr>\n",
              "      <th>5</th>\n",
              "      <td>Afghanistan</td>\n",
              "      <td>1976</td>\n",
              "      <td>0.8</td>\n",
              "      <td>Female</td>\n",
              "    </tr>\n",
              "    <tr>\n",
              "      <th>7</th>\n",
              "      <td>Afghanistan</td>\n",
              "      <td>1977</td>\n",
              "      <td>0.2</td>\n",
              "      <td>Male</td>\n",
              "    </tr>\n",
              "    <tr>\n",
              "      <th>...</th>\n",
              "      <td>...</td>\n",
              "      <td>...</td>\n",
              "      <td>...</td>\n",
              "      <td>...</td>\n",
              "    </tr>\n",
              "    <tr>\n",
              "      <th>119</th>\n",
              "      <td>Afghanistan</td>\n",
              "      <td>2014</td>\n",
              "      <td>7.0</td>\n",
              "      <td>Female</td>\n",
              "    </tr>\n",
              "    <tr>\n",
              "      <th>121</th>\n",
              "      <td>Afghanistan</td>\n",
              "      <td>2015</td>\n",
              "      <td>3.0</td>\n",
              "      <td>Male</td>\n",
              "    </tr>\n",
              "    <tr>\n",
              "      <th>122</th>\n",
              "      <td>Afghanistan</td>\n",
              "      <td>2015</td>\n",
              "      <td>7.3</td>\n",
              "      <td>Female</td>\n",
              "    </tr>\n",
              "    <tr>\n",
              "      <th>124</th>\n",
              "      <td>Afghanistan</td>\n",
              "      <td>2016</td>\n",
              "      <td>3.2</td>\n",
              "      <td>Male</td>\n",
              "    </tr>\n",
              "    <tr>\n",
              "      <th>125</th>\n",
              "      <td>Afghanistan</td>\n",
              "      <td>2016</td>\n",
              "      <td>7.6</td>\n",
              "      <td>Female</td>\n",
              "    </tr>\n",
              "  </tbody>\n",
              "</table>\n",
              "<p>84 rows × 4 columns</p>\n",
              "</div>"
            ],
            "text/plain": [
              "         Country  Year  Obesity (%)     Sex\n",
              "1    Afghanistan  1975          0.2    Male\n",
              "2    Afghanistan  1975          0.8  Female\n",
              "4    Afghanistan  1976          0.2    Male\n",
              "5    Afghanistan  1976          0.8  Female\n",
              "7    Afghanistan  1977          0.2    Male\n",
              "..           ...   ...          ...     ...\n",
              "119  Afghanistan  2014          7.0  Female\n",
              "121  Afghanistan  2015          3.0    Male\n",
              "122  Afghanistan  2015          7.3  Female\n",
              "124  Afghanistan  2016          3.2    Male\n",
              "125  Afghanistan  2016          7.6  Female\n",
              "\n",
              "[84 rows x 4 columns]"
            ]
          },
          "execution_count": 20,
          "metadata": {},
          "output_type": "execute_result"
        }
      ],
      "source": [
        "df3"
      ]
    },
    {
      "cell_type": "code",
      "execution_count": null,
      "id": "eadfb5e1",
      "metadata": {
        "id": "eadfb5e1",
        "outputId": "094973b4-42de-44da-c5eb-7ebca12ca588"
      },
      "outputs": [
        {
          "data": {
            "text/html": [
              "<div>\n",
              "<style scoped>\n",
              "    .dataframe tbody tr th:only-of-type {\n",
              "        vertical-align: middle;\n",
              "    }\n",
              "\n",
              "    .dataframe tbody tr th {\n",
              "        vertical-align: top;\n",
              "    }\n",
              "\n",
              "    .dataframe thead th {\n",
              "        text-align: right;\n",
              "    }\n",
              "</style>\n",
              "<table border=\"1\" class=\"dataframe\">\n",
              "  <thead>\n",
              "    <tr style=\"text-align: right;\">\n",
              "      <th></th>\n",
              "      <th>Country</th>\n",
              "      <th>Year</th>\n",
              "      <th>Obesity (%)</th>\n",
              "      <th>Sex</th>\n",
              "    </tr>\n",
              "  </thead>\n",
              "  <tbody>\n",
              "    <tr>\n",
              "      <th>0</th>\n",
              "      <td>Afghanistan</td>\n",
              "      <td>1975</td>\n",
              "      <td>0.5</td>\n",
              "      <td>Both sexes</td>\n",
              "    </tr>\n",
              "    <tr>\n",
              "      <th>3</th>\n",
              "      <td>Afghanistan</td>\n",
              "      <td>1976</td>\n",
              "      <td>0.5</td>\n",
              "      <td>Both sexes</td>\n",
              "    </tr>\n",
              "    <tr>\n",
              "      <th>6</th>\n",
              "      <td>Afghanistan</td>\n",
              "      <td>1977</td>\n",
              "      <td>0.6</td>\n",
              "      <td>Both sexes</td>\n",
              "    </tr>\n",
              "    <tr>\n",
              "      <th>9</th>\n",
              "      <td>Afghanistan</td>\n",
              "      <td>1978</td>\n",
              "      <td>0.6</td>\n",
              "      <td>Both sexes</td>\n",
              "    </tr>\n",
              "    <tr>\n",
              "      <th>12</th>\n",
              "      <td>Afghanistan</td>\n",
              "      <td>1979</td>\n",
              "      <td>0.6</td>\n",
              "      <td>Both sexes</td>\n",
              "    </tr>\n",
              "    <tr>\n",
              "      <th>15</th>\n",
              "      <td>Afghanistan</td>\n",
              "      <td>1980</td>\n",
              "      <td>0.7</td>\n",
              "      <td>Both sexes</td>\n",
              "    </tr>\n",
              "    <tr>\n",
              "      <th>18</th>\n",
              "      <td>Afghanistan</td>\n",
              "      <td>1981</td>\n",
              "      <td>0.7</td>\n",
              "      <td>Both sexes</td>\n",
              "    </tr>\n",
              "    <tr>\n",
              "      <th>21</th>\n",
              "      <td>Afghanistan</td>\n",
              "      <td>1982</td>\n",
              "      <td>0.8</td>\n",
              "      <td>Both sexes</td>\n",
              "    </tr>\n",
              "    <tr>\n",
              "      <th>24</th>\n",
              "      <td>Afghanistan</td>\n",
              "      <td>1983</td>\n",
              "      <td>0.8</td>\n",
              "      <td>Both sexes</td>\n",
              "    </tr>\n",
              "    <tr>\n",
              "      <th>27</th>\n",
              "      <td>Afghanistan</td>\n",
              "      <td>1984</td>\n",
              "      <td>0.9</td>\n",
              "      <td>Both sexes</td>\n",
              "    </tr>\n",
              "    <tr>\n",
              "      <th>30</th>\n",
              "      <td>Afghanistan</td>\n",
              "      <td>1985</td>\n",
              "      <td>1.0</td>\n",
              "      <td>Both sexes</td>\n",
              "    </tr>\n",
              "    <tr>\n",
              "      <th>33</th>\n",
              "      <td>Afghanistan</td>\n",
              "      <td>1986</td>\n",
              "      <td>1.0</td>\n",
              "      <td>Both sexes</td>\n",
              "    </tr>\n",
              "    <tr>\n",
              "      <th>36</th>\n",
              "      <td>Afghanistan</td>\n",
              "      <td>1987</td>\n",
              "      <td>1.1</td>\n",
              "      <td>Both sexes</td>\n",
              "    </tr>\n",
              "    <tr>\n",
              "      <th>39</th>\n",
              "      <td>Afghanistan</td>\n",
              "      <td>1988</td>\n",
              "      <td>1.2</td>\n",
              "      <td>Both sexes</td>\n",
              "    </tr>\n",
              "    <tr>\n",
              "      <th>42</th>\n",
              "      <td>Afghanistan</td>\n",
              "      <td>1989</td>\n",
              "      <td>1.2</td>\n",
              "      <td>Both sexes</td>\n",
              "    </tr>\n",
              "    <tr>\n",
              "      <th>45</th>\n",
              "      <td>Afghanistan</td>\n",
              "      <td>1990</td>\n",
              "      <td>1.3</td>\n",
              "      <td>Both sexes</td>\n",
              "    </tr>\n",
              "    <tr>\n",
              "      <th>48</th>\n",
              "      <td>Afghanistan</td>\n",
              "      <td>1991</td>\n",
              "      <td>1.4</td>\n",
              "      <td>Both sexes</td>\n",
              "    </tr>\n",
              "    <tr>\n",
              "      <th>51</th>\n",
              "      <td>Afghanistan</td>\n",
              "      <td>1992</td>\n",
              "      <td>1.5</td>\n",
              "      <td>Both sexes</td>\n",
              "    </tr>\n",
              "    <tr>\n",
              "      <th>54</th>\n",
              "      <td>Afghanistan</td>\n",
              "      <td>1993</td>\n",
              "      <td>1.5</td>\n",
              "      <td>Both sexes</td>\n",
              "    </tr>\n",
              "    <tr>\n",
              "      <th>57</th>\n",
              "      <td>Afghanistan</td>\n",
              "      <td>1994</td>\n",
              "      <td>1.6</td>\n",
              "      <td>Both sexes</td>\n",
              "    </tr>\n",
              "    <tr>\n",
              "      <th>60</th>\n",
              "      <td>Afghanistan</td>\n",
              "      <td>1995</td>\n",
              "      <td>1.7</td>\n",
              "      <td>Both sexes</td>\n",
              "    </tr>\n",
              "    <tr>\n",
              "      <th>63</th>\n",
              "      <td>Afghanistan</td>\n",
              "      <td>1996</td>\n",
              "      <td>1.8</td>\n",
              "      <td>Both sexes</td>\n",
              "    </tr>\n",
              "    <tr>\n",
              "      <th>66</th>\n",
              "      <td>Afghanistan</td>\n",
              "      <td>1997</td>\n",
              "      <td>1.9</td>\n",
              "      <td>Both sexes</td>\n",
              "    </tr>\n",
              "    <tr>\n",
              "      <th>69</th>\n",
              "      <td>Afghanistan</td>\n",
              "      <td>1998</td>\n",
              "      <td>2.1</td>\n",
              "      <td>Both sexes</td>\n",
              "    </tr>\n",
              "    <tr>\n",
              "      <th>72</th>\n",
              "      <td>Afghanistan</td>\n",
              "      <td>1999</td>\n",
              "      <td>2.2</td>\n",
              "      <td>Both sexes</td>\n",
              "    </tr>\n",
              "    <tr>\n",
              "      <th>75</th>\n",
              "      <td>Afghanistan</td>\n",
              "      <td>2000</td>\n",
              "      <td>2.3</td>\n",
              "      <td>Both sexes</td>\n",
              "    </tr>\n",
              "    <tr>\n",
              "      <th>78</th>\n",
              "      <td>Afghanistan</td>\n",
              "      <td>2001</td>\n",
              "      <td>2.4</td>\n",
              "      <td>Both sexes</td>\n",
              "    </tr>\n",
              "    <tr>\n",
              "      <th>81</th>\n",
              "      <td>Afghanistan</td>\n",
              "      <td>2002</td>\n",
              "      <td>2.6</td>\n",
              "      <td>Both sexes</td>\n",
              "    </tr>\n",
              "    <tr>\n",
              "      <th>84</th>\n",
              "      <td>Afghanistan</td>\n",
              "      <td>2003</td>\n",
              "      <td>2.7</td>\n",
              "      <td>Both sexes</td>\n",
              "    </tr>\n",
              "    <tr>\n",
              "      <th>87</th>\n",
              "      <td>Afghanistan</td>\n",
              "      <td>2004</td>\n",
              "      <td>2.9</td>\n",
              "      <td>Both sexes</td>\n",
              "    </tr>\n",
              "    <tr>\n",
              "      <th>90</th>\n",
              "      <td>Afghanistan</td>\n",
              "      <td>2005</td>\n",
              "      <td>3.0</td>\n",
              "      <td>Both sexes</td>\n",
              "    </tr>\n",
              "    <tr>\n",
              "      <th>93</th>\n",
              "      <td>Afghanistan</td>\n",
              "      <td>2006</td>\n",
              "      <td>3.2</td>\n",
              "      <td>Both sexes</td>\n",
              "    </tr>\n",
              "    <tr>\n",
              "      <th>96</th>\n",
              "      <td>Afghanistan</td>\n",
              "      <td>2007</td>\n",
              "      <td>3.4</td>\n",
              "      <td>Both sexes</td>\n",
              "    </tr>\n",
              "    <tr>\n",
              "      <th>99</th>\n",
              "      <td>Afghanistan</td>\n",
              "      <td>2008</td>\n",
              "      <td>3.6</td>\n",
              "      <td>Both sexes</td>\n",
              "    </tr>\n",
              "    <tr>\n",
              "      <th>102</th>\n",
              "      <td>Afghanistan</td>\n",
              "      <td>2009</td>\n",
              "      <td>3.8</td>\n",
              "      <td>Both sexes</td>\n",
              "    </tr>\n",
              "    <tr>\n",
              "      <th>105</th>\n",
              "      <td>Afghanistan</td>\n",
              "      <td>2010</td>\n",
              "      <td>4.0</td>\n",
              "      <td>Both sexes</td>\n",
              "    </tr>\n",
              "    <tr>\n",
              "      <th>108</th>\n",
              "      <td>Afghanistan</td>\n",
              "      <td>2011</td>\n",
              "      <td>4.2</td>\n",
              "      <td>Both sexes</td>\n",
              "    </tr>\n",
              "    <tr>\n",
              "      <th>111</th>\n",
              "      <td>Afghanistan</td>\n",
              "      <td>2012</td>\n",
              "      <td>4.4</td>\n",
              "      <td>Both sexes</td>\n",
              "    </tr>\n",
              "    <tr>\n",
              "      <th>114</th>\n",
              "      <td>Afghanistan</td>\n",
              "      <td>2013</td>\n",
              "      <td>4.7</td>\n",
              "      <td>Both sexes</td>\n",
              "    </tr>\n",
              "    <tr>\n",
              "      <th>117</th>\n",
              "      <td>Afghanistan</td>\n",
              "      <td>2014</td>\n",
              "      <td>4.9</td>\n",
              "      <td>Both sexes</td>\n",
              "    </tr>\n",
              "    <tr>\n",
              "      <th>120</th>\n",
              "      <td>Afghanistan</td>\n",
              "      <td>2015</td>\n",
              "      <td>5.2</td>\n",
              "      <td>Both sexes</td>\n",
              "    </tr>\n",
              "    <tr>\n",
              "      <th>123</th>\n",
              "      <td>Afghanistan</td>\n",
              "      <td>2016</td>\n",
              "      <td>5.5</td>\n",
              "      <td>Both sexes</td>\n",
              "    </tr>\n",
              "  </tbody>\n",
              "</table>\n",
              "</div>"
            ],
            "text/plain": [
              "         Country  Year  Obesity (%)         Sex\n",
              "0    Afghanistan  1975          0.5  Both sexes\n",
              "3    Afghanistan  1976          0.5  Both sexes\n",
              "6    Afghanistan  1977          0.6  Both sexes\n",
              "9    Afghanistan  1978          0.6  Both sexes\n",
              "12   Afghanistan  1979          0.6  Both sexes\n",
              "15   Afghanistan  1980          0.7  Both sexes\n",
              "18   Afghanistan  1981          0.7  Both sexes\n",
              "21   Afghanistan  1982          0.8  Both sexes\n",
              "24   Afghanistan  1983          0.8  Both sexes\n",
              "27   Afghanistan  1984          0.9  Both sexes\n",
              "30   Afghanistan  1985          1.0  Both sexes\n",
              "33   Afghanistan  1986          1.0  Both sexes\n",
              "36   Afghanistan  1987          1.1  Both sexes\n",
              "39   Afghanistan  1988          1.2  Both sexes\n",
              "42   Afghanistan  1989          1.2  Both sexes\n",
              "45   Afghanistan  1990          1.3  Both sexes\n",
              "48   Afghanistan  1991          1.4  Both sexes\n",
              "51   Afghanistan  1992          1.5  Both sexes\n",
              "54   Afghanistan  1993          1.5  Both sexes\n",
              "57   Afghanistan  1994          1.6  Both sexes\n",
              "60   Afghanistan  1995          1.7  Both sexes\n",
              "63   Afghanistan  1996          1.8  Both sexes\n",
              "66   Afghanistan  1997          1.9  Both sexes\n",
              "69   Afghanistan  1998          2.1  Both sexes\n",
              "72   Afghanistan  1999          2.2  Both sexes\n",
              "75   Afghanistan  2000          2.3  Both sexes\n",
              "78   Afghanistan  2001          2.4  Both sexes\n",
              "81   Afghanistan  2002          2.6  Both sexes\n",
              "84   Afghanistan  2003          2.7  Both sexes\n",
              "87   Afghanistan  2004          2.9  Both sexes\n",
              "90   Afghanistan  2005          3.0  Both sexes\n",
              "93   Afghanistan  2006          3.2  Both sexes\n",
              "96   Afghanistan  2007          3.4  Both sexes\n",
              "99   Afghanistan  2008          3.6  Both sexes\n",
              "102  Afghanistan  2009          3.8  Both sexes\n",
              "105  Afghanistan  2010          4.0  Both sexes\n",
              "108  Afghanistan  2011          4.2  Both sexes\n",
              "111  Afghanistan  2012          4.4  Both sexes\n",
              "114  Afghanistan  2013          4.7  Both sexes\n",
              "117  Afghanistan  2014          4.9  Both sexes\n",
              "120  Afghanistan  2015          5.2  Both sexes\n",
              "123  Afghanistan  2016          5.5  Both sexes"
            ]
          },
          "execution_count": 21,
          "metadata": {},
          "output_type": "execute_result"
        }
      ],
      "source": [
        "df4=df2[df2[\"Sex\"]==\"Both sexes\"]\n",
        "df4"
      ]
    },
    {
      "cell_type": "code",
      "execution_count": null,
      "id": "3ac16f3c",
      "metadata": {
        "id": "3ac16f3c"
      },
      "outputs": [],
      "source": []
    },
    {
      "cell_type": "code",
      "execution_count": null,
      "id": "88e78966",
      "metadata": {
        "id": "88e78966"
      },
      "outputs": [],
      "source": [
        "import matplotlib.pyplot as plt\n",
        "import seaborn as sns"
      ]
    },
    {
      "cell_type": "code",
      "execution_count": null,
      "id": "e6a9c972",
      "metadata": {
        "id": "e6a9c972"
      },
      "outputs": [],
      "source": [
        "y=df4['Obesity (%)']\n",
        "x=df4['Year']"
      ]
    },
    {
      "cell_type": "code",
      "execution_count": null,
      "id": "65f44b50",
      "metadata": {
        "id": "65f44b50",
        "outputId": "3ecc50ec-2b7c-478d-ca1b-8a2097ffda1a"
      },
      "outputs": [
        {
          "data": {
            "text/plain": [
              "(0.5, 3.0, 5.5)"
            ]
          },
          "execution_count": 24,
          "metadata": {},
          "output_type": "execute_result"
        }
      ],
      "source": [
        "low=y.min()\n",
        "high=y.max()\n",
        "mid=(low+high)/2\n",
        "low,mid,high"
      ]
    },
    {
      "cell_type": "code",
      "execution_count": null,
      "id": "cd4660d7",
      "metadata": {
        "id": "cd4660d7",
        "outputId": "8abe3030-1b06-493b-a98f-e2921b91e91f"
      },
      "outputs": [
        {
          "data": {
            "text/plain": [
              "[]"
            ]
          },
          "execution_count": 25,
          "metadata": {},
          "output_type": "execute_result"
        },
        {
          "data": {
            "image/png": "[encoded data removed]",
            "text/plain": [
              "<Figure size 640x480 with 1 Axes>"
            ]
          },
          "metadata": {},
          "output_type": "display_data"
        }
      ],
      "source": [
        "plt.scatter(x,y)\n",
        "plt.yticks([low,mid,high])\n",
        "plt.plot()"
      ]
    },
    {
      "cell_type": "code",
      "execution_count": null,
      "id": "b51d5bb0",
      "metadata": {
        "id": "b51d5bb0"
      },
      "outputs": [],
      "source": [
        "Sex=df3[\"Sex\"].value_counts()"
      ]
    },
    {
      "cell_type": "code",
      "execution_count": null,
      "id": "a7d9fe69",
      "metadata": {
        "id": "a7d9fe69",
        "outputId": "a66b344b-32ef-48d8-d92b-569a53af5a3d"
      },
      "outputs": [
        {
          "data": {
            "image/png": "[encoded data removed]",
            "text/plain": [
              "<Figure size 640x480 with 1 Axes>"
            ]
          },
          "metadata": {},
          "output_type": "display_data"
        }
      ],
      "source": [
        "plt.bar(Sex.index,Sex.values)\n",
        "plt.plot()\n",
        "plt.show()"
      ]
    },
    {
      "cell_type": "code",
      "execution_count": null,
      "id": "f926ef3e",
      "metadata": {
        "id": "f926ef3e",
        "outputId": "159a1df3-4805-4960-a951-f8529026713a"
      },
      "outputs": [
        {
          "data": {
            "text/plain": [
              "array([[<Axes: title={'center': 'Year'}>,\n",
              "        <Axes: title={'center': 'Obesity (%)'}>]], dtype=object)"
            ]
          },
          "execution_count": 103,
          "metadata": {},
          "output_type": "execute_result"
        },
        {
          "data": {
            "image/png": "[encoded data removed]",
            "text/plain": [
              "<Figure size 640x480 with 2 Axes>"
            ]
          },
          "metadata": {},
          "output_type": "display_data"
        }
      ],
      "source": [
        "df.hist()"
      ]
    },
    {
      "cell_type": "code",
      "execution_count": null,
      "id": "75d92819",
      "metadata": {
        "id": "75d92819"
      },
      "outputs": [],
      "source": []
    }
  ],
  "metadata": {
    "kernelspec": {
      "display_name": "Python 3 (ipykernel)",
      "language": "python",
      "name": "python3"
    },
    "language_info": {
      "codemirror_mode": {
        "name": "ipython",
        "version": 3
      },
      "file_extension": ".py",
      "mimetype": "text/x-python",
      "name": "python",
      "nbconvert_exporter": "python",
      "pygments_lexer": "ipython3",
      "version": "3.11.4"
    },
    "colab": {
      "provenance": [],
      "include_colab_link": true
    }
  },
  "nbformat": 4,
  "nbformat_minor": 5
}